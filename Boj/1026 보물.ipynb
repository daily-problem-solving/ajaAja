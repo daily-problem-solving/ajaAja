{
 "cells": [
  {
   "cell_type": "code",
   "execution_count": null,
   "id": "bc83264c",
   "metadata": {},
   "outputs": [],
   "source": [
    "import sys \n",
    "input = sys.stdin.readline\n"
   ]
  },
  {
   "cell_type": "markdown",
   "id": "cee3962c",
   "metadata": {},
   "source": [
    "## 문제 해석 \n",
    "\n",
    "S 값을 최소로 해! \n",
    "길이가 N 인 정수 배열 A 와 B \n",
    "An * Bn 들의 합이 S, \n",
    "S를 최소로 하게 만들어라. \n",
    "B 수를 재배열 하면 안되네.. \n",
    "\n",
    "\n",
    "## 아이디어\n",
    "\n",
    "B의 크기에 순서를 입혀서 넣을까? \n",
    "## 제한 사항 \n",
    "2초 128mb "
   ]
  },
  {
   "cell_type": "code",
   "execution_count": null,
   "id": "d154c5c6",
   "metadata": {},
   "outputs": [],
   "source": []
  },
  {
   "cell_type": "code",
   "execution_count": null,
   "id": "e501e2a7",
   "metadata": {},
   "outputs": [],
   "source": []
  }
 ],
 "metadata": {
  "kernelspec": {
   "display_name": "Python 3 (ipykernel)",
   "language": "python",
   "name": "python3"
  },
  "language_info": {
   "codemirror_mode": {
    "name": "ipython",
    "version": 3
   },
   "file_extension": ".py",
   "mimetype": "text/x-python",
   "name": "python",
   "nbconvert_exporter": "python",
   "pygments_lexer": "ipython3",
   "version": "3.11.3"
  }
 },
 "nbformat": 4,
 "nbformat_minor": 5
}
