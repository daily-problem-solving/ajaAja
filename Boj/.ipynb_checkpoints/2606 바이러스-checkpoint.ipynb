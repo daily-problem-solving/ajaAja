{
 "cells": [
  {
   "cell_type": "code",
   "execution_count": null,
   "id": "977a4fb8",
   "metadata": {},
   "outputs": [],
   "source": [
    "import sys \n",
    "input = sys.stdin.readline\n"
   ]
  },
  {
   "cell_type": "markdown",
   "id": "20d41530",
   "metadata": {},
   "source": [
    "# 문제 해석 \n",
    "N = 컴퓨터의 수 ,100 이하 양수 \n",
    "직접 연결된 컴퓨터 쌍 갯수 \n",
    "\n",
    "1초, 128mb\n"
   ]
  },
  {
   "cell_type": "code",
   "execution_count": 9,
   "id": "ddcef63b",
   "metadata": {},
   "outputs": [
    {
     "name": "stdout",
     "output_type": "stream",
     "text": [
      "7\n",
      "6\n",
      "1 2\n",
      "2 3\n",
      "1 5\n",
      "5 2\n",
      "5 6\n",
      "4 7\n"
     ]
    }
   ],
   "source": [
    "N = int(input())\n",
    "maps=[[-1] for _ in range(N+1)]\n",
    "M = int(input())\n",
    "for _ in range(M):\n",
    "    a, b = map(int,input().split())\n",
    "    maps[a].append(b)\n",
    "    maps[b].append(a)\n"
   ]
  },
  {
   "cell_type": "code",
   "execution_count": 10,
   "id": "50ec6111",
   "metadata": {},
   "outputs": [
    {
     "data": {
      "text/plain": [
       "[[-1],\n",
       " [-1, 2, 5],\n",
       " [-1, 1, 3, 5],\n",
       " [-1, 2],\n",
       " [-1, 7],\n",
       " [-1, 1, 2, 6],\n",
       " [-1, 5],\n",
       " [-1, 4]]"
      ]
     },
     "execution_count": 10,
     "metadata": {},
     "output_type": "execute_result"
    }
   ],
   "source": [
    "maps"
   ]
  },
  {
   "cell_type": "code",
   "execution_count": 35,
   "id": "944170b6",
   "metadata": {},
   "outputs": [],
   "source": [
    "visitied=[ False for _ in range(N+1)]"
   ]
  },
  {
   "cell_type": "code",
   "execution_count": 36,
   "id": "071e6070",
   "metadata": {},
   "outputs": [
    {
     "data": {
      "text/plain": [
       "[False, False, False, False, False, False, False, False]"
      ]
     },
     "execution_count": 36,
     "metadata": {},
     "output_type": "execute_result"
    }
   ],
   "source": [
    "visitied"
   ]
  },
  {
   "cell_type": "code",
   "execution_count": 37,
   "id": "ec73796c",
   "metadata": {},
   "outputs": [
    {
     "name": "stdout",
     "output_type": "stream",
     "text": [
      "2 have to here\n",
      "3 have to here\n",
      "5 have to here\n",
      "6 have to here\n",
      "4\n"
     ]
    }
   ],
   "source": [
    "def dfs(start,visitied,maps):\n",
    "    global count \n",
    "    count += 1\n",
    "    visitied[start] = True\n",
    "    for nextnode in maps[start][1:] :\n",
    "        \n",
    "        if visitied[nextnode] == False :\n",
    "            dfs(nextnode,visitied,maps)\n",
    "    \n",
    "count = -1\n",
    "dfs(1,visitied,maps)\n",
    "print(count)\n",
    "        "
   ]
  },
  {
   "cell_type": "code",
   "execution_count": null,
   "id": "eadcc636",
   "metadata": {},
   "outputs": [],
   "source": []
  }
 ],
 "metadata": {
  "kernelspec": {
   "display_name": "Python 3 (ipykernel)",
   "language": "python",
   "name": "python3"
  },
  "language_info": {
   "codemirror_mode": {
    "name": "ipython",
    "version": 3
   },
   "file_extension": ".py",
   "mimetype": "text/x-python",
   "name": "python",
   "nbconvert_exporter": "python",
   "pygments_lexer": "ipython3",
   "version": "3.11.3"
  }
 },
 "nbformat": 4,
 "nbformat_minor": 5
}
