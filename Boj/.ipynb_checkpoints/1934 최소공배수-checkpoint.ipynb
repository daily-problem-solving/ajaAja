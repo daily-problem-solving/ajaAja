{
 "cells": [
  {
   "cell_type": "code",
   "execution_count": 3,
   "id": "eb50cc9e",
   "metadata": {},
   "outputs": [
    {
     "name": "stdout",
     "output_type": "stream",
     "text": [
      "3\n",
      "1 45000\n",
      "45000\n",
      "6 10\n",
      "30\n",
      "13 17\n",
      "221\n"
     ]
    }
   ],
   "source": [
    "import sys \n",
    "#input = sys.stdin.readline\n",
    "\n",
    "N = int(input())\n",
    "for _ in range(N):\n",
    "    a, b = map(int,input().split())\n",
    "    # 큰 수가 작은수로 나뉘어 질 때 \n",
    "    big = 0 \n",
    "    small = 0\n",
    "    if a >=b :\n",
    "        big = a\n",
    "        small = b \n",
    "    else :\n",
    "        big = b\n",
    "        small = a\n",
    "    if big % small == 0 :\n",
    "        print(big)\n",
    "        continue\n",
    "    num = 1\n",
    "    res = 0\n",
    "    while True :\n",
    "        num += 1\n",
    "        res = num * big\n",
    "        if res % small == 0 :\n",
    "            break\n",
    "    print(res)"
   ]
  },
  {
   "cell_type": "markdown",
   "id": "7722898d",
   "metadata": {},
   "source": [
    "# 실패 이유 \n",
    "=> time out이 걸린다. \n",
    "따라서, 더 빠른 공식인 유클리드 호제 법을 사용해야 한다. \n",
    "\n",
    "## 유클리드 호제법이란 ? \n",
    "최소 공약수를 구하는 방법 \n",
    "\n",
    "구하는 방법은 다음과 같다. \n",
    "648 % 232 = 184 \n",
    "232 % 184 = 48 \n",
    "184% 48 = 40\n",
    "48 % 40 = 8\n",
    "40 % 8 = 0 임으로 최대 공약수는 8이다. \n",
    "원리는 .. 잘 .. . ㅇ\n",
    "유클리드 호제법 호제는 => 서로 호다. \n",
    "2개의 자연수 ab는 a를 b로 나눈 나머지가 r 일때, a 와 b의 최대공약수는 b와 r의 최대공약수와 같다. \n",
    "\n",
    "\n",
    "### 이제, 최소 공배수는 ... \n",
    "수학적 논리에 의해 a*b 를 최대 공약수로 나눈 것과 같다. \n",
    "\n",
    "# 아래는 통과 코드 "
   ]
  },
  {
   "cell_type": "code",
   "execution_count": null,
   "id": "b1d107de",
   "metadata": {},
   "outputs": [],
   "source": [
    "import sys \n",
    "input = sys.stdin.readline\n",
    "N = int(input())\n",
    "\n",
    "def getMind(a,b):\n",
    "    res=0\n",
    "    while(b!=0): \n",
    "        res = a % b \n",
    "        a = b\n",
    "        b = res\n",
    "    return a\n",
    "        \n",
    "\n",
    "for _ in range( N ) :\n",
    "    input_line = input().strip()\n",
    "    a,b= map(int, input_line.split())\n",
    "    gcd = getMind(a,b)\n",
    "\n",
    "    print(int(a*b/gcd))\n",
    "    "
   ]
  }
 ],
 "metadata": {
  "kernelspec": {
   "display_name": "Python 3 (ipykernel)",
   "language": "python",
   "name": "python3"
  },
  "language_info": {
   "codemirror_mode": {
    "name": "ipython",
    "version": 3
   },
   "file_extension": ".py",
   "mimetype": "text/x-python",
   "name": "python",
   "nbconvert_exporter": "python",
   "pygments_lexer": "ipython3",
   "version": "3.11.3"
  }
 },
 "nbformat": 4,
 "nbformat_minor": 5
}
