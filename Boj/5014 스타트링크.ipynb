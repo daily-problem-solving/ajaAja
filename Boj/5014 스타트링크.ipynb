{
 "cells": [
  {
   "cell_type": "code",
   "execution_count": null,
   "id": "7a03b487",
   "metadata": {},
   "outputs": [],
   "source": [
    "import sys\n",
    "input = sys.stdin.readline\n"
   ]
  },
  {
   "cell_type": "markdown",
   "id": "820fdec9",
   "metadata": {},
   "source": [
    "# 문제해석\n",
    "### 제한 사항\n",
    "제한 시간 1초 ( 1억번 연산 ) \n",
    "메모리제한 256 MB \n",
    "int는 4Byte, 따라서 int 배열 크기 100만일 때. 400mb \n",
    "따라서 44만 크기 제한 \n",
    "### 해석\n",
    "총 건물 높이 ; F \n",
    "스타트링크 위치 : G \n",
    "강호는 현재 : S\n",
    " (1 ≤ S, G ≤ F ≤ 1000000, 0 ≤ U, D ≤ 1000000) \n",
    "U / D 버튼 두개. 위로 U 층, 아래로 D 층 \n",
    "G에 도착하려면 적어도 몇 번 눌러야 하나여? \n",
    "만약 갈 수 없다면 use the stairs \n",
    "### 전략\n",
    "음... 나올때 까지 반복하는 건 어때 ㅎ\n"
   ]
  },
  {
   "cell_type": "code",
   "execution_count": 1,
   "id": "939be27a",
   "metadata": {},
   "outputs": [
    {
     "name": "stdout",
     "output_type": "stream",
     "text": [
      "10 1 10 2 1\n"
     ]
    }
   ],
   "source": [
    "F , G, S, U, D = map(int, input().split())\n"
   ]
  },
  {
   "cell_type": "code",
   "execution_count": 2,
   "id": "a2fa6d4d",
   "metadata": {},
   "outputs": [
    {
     "name": "stdout",
     "output_type": "stream",
     "text": [
      "9\n"
     ]
    }
   ],
   "source": [
    "count = 0\n",
    "isFail = False\n",
    "while True :\n",
    "    if S == G :\n",
    "        break\n",
    "    elif S > G :\n",
    "        if G // D > 0 and G % D == 0 :\n",
    "            count +=1 \n",
    "            S -= D \n",
    "            if S >= 0 :\n",
    "                continue\n",
    "            else :\n",
    "                isFail = True\n",
    "                break\n",
    "        else :\n",
    "            isFail = True\n",
    "\n",
    "            break\n",
    "    else :\n",
    "        if G// U > 0 and G % U == 0:\n",
    "            count +=1 \n",
    "            S += U \n",
    "            if S <= F:\n",
    "                continue\n",
    "            else :\n",
    "                isFail = True\n",
    "                break\n",
    "\n",
    "if isFail == True:\n",
    "    print(\"use the stairs\")\n",
    "else :\n",
    "    print(count)"
   ]
  },
  {
   "cell_type": "code",
   "execution_count": null,
   "id": "f93e53f4",
   "metadata": {},
   "outputs": [],
   "source": []
  }
 ],
 "metadata": {
  "kernelspec": {
   "display_name": "Python 3 (ipykernel)",
   "language": "python",
   "name": "python3"
  },
  "language_info": {
   "codemirror_mode": {
    "name": "ipython",
    "version": 3
   },
   "file_extension": ".py",
   "mimetype": "text/x-python",
   "name": "python",
   "nbconvert_exporter": "python",
   "pygments_lexer": "ipython3",
   "version": "3.11.3"
  }
 },
 "nbformat": 4,
 "nbformat_minor": 5
}
