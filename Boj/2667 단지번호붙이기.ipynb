{
 "cells": [
  {
   "cell_type": "code",
   "execution_count": null,
   "id": "0dc04e01",
   "metadata": {},
   "outputs": [],
   "source": [
    "import sys\n",
    "input = sys.stdin.readline"
   ]
  },
  {
   "cell_type": "markdown",
   "id": "0c0f48b7",
   "metadata": {},
   "source": [
    "# 최종 풀이 \n"
   ]
  },
  {
   "cell_type": "code",
   "execution_count": null,
   "id": "1846611d",
   "metadata": {},
   "outputs": [],
   "source": [
    "import sys\n",
    "input = sys.stdin.readline\n",
    "N = int(input())\n",
    "maps=[]\n",
    "for _ in range(N):\n",
    "    maps.append(list(input()))\n",
    "visited = [[False for _ in range(N)] for _ in range(N)]\n",
    "\n",
    "def dfs(x,y,visited,maps):\n",
    "    global count\n",
    "    visited[x][y] = True\n",
    "    count += 1\n",
    "    #print(x,y, \"dfs 내부, count 증가\")\n",
    "    for pair in zip(dx, dy):\n",
    "        if x+pair[0] >= len(maps) or x+pair[0] <0 or y+pair[1]>=len(maps) or y+pair[1]<0 :\n",
    "            continue\n",
    "     #   print(\"[pair]==>\" ,x+pair[0], y+pair[1] , \" maps[x+pair][y+pair] => \" , maps[x+pair[0]][y+pair[1]],visited[x+pair[0]][y+pair[1]])\n",
    "        if maps[x+pair[0]][y+pair[1]] == '1' and visited[x+pair[0]][y+pair[1]] ==False :\n",
    "            dfs(x+pair[0],y+pair[1],visited,maps)\n",
    "      #      print(\"내부에서 dfs 또 갔어\")\n",
    "\n",
    "dx = [1, -1, 0, 0]\n",
    "dy = [0, 0, 1, -1]\n",
    "whole =0\n",
    "count = 0\n",
    "res = []\n",
    "for i in range(N):\n",
    "    for j in range(N):\n",
    "#        print(\"여기가 최대 밖 잘 돌고있나?\", i,j,maps[i][j])\n",
    "        if maps[i][j] == '1' and visited[i][j]== False:\n",
    "            count=0\n",
    "            whole +=1 \n",
    "            dfs(i,j,visited,maps)\n",
    "            res.append(count)\n",
    " #           print(\"dfs 끝난 후 \")\n",
    "    \n",
    "print(whole)\n",
    "res.sort()\n",
    "for _ in res :\n",
    "    print(_)"
   ]
  },
  {
   "cell_type": "code",
   "execution_count": 1,
   "id": "d117b076",
   "metadata": {},
   "outputs": [
    {
     "name": "stdout",
     "output_type": "stream",
     "text": [
      "7\n",
      "0110100\n",
      "0110101\n",
      "1110101\n",
      "0000111\n",
      "0100000\n",
      "0111110\n",
      "0111000\n"
     ]
    }
   ],
   "source": [
    "N = int(input())\n",
    "maps=[]\n",
    "for _ in range(N):\n",
    "    maps.append(list(input()))\n"
   ]
  },
  {
   "cell_type": "code",
   "execution_count": 106,
   "id": "8a0515b6",
   "metadata": {},
   "outputs": [
    {
     "name": "stdout",
     "output_type": "stream",
     "text": [
      "[[False, False, False, False, False, False, False], [False, False, False, False, False, False, False], [False, False, False, False, False, False, False], [False, False, False, False, False, False, False], [False, False, False, False, False, False, False], [False, False, False, False, False, False, False], [False, False, False, False, False, False, False]]\n"
     ]
    }
   ],
   "source": [
    "visited = [[False for _ in range(N)] for _ in range(N)]\n",
    "print(visited)"
   ]
  },
  {
   "cell_type": "code",
   "execution_count": 107,
   "id": "cb106746",
   "metadata": {},
   "outputs": [],
   "source": [
    "dx = [1, -1, 0, 0]\n",
    "dy = [0, 0, 1, -1]"
   ]
  },
  {
   "cell_type": "code",
   "execution_count": 108,
   "id": "24937b2a",
   "metadata": {},
   "outputs": [],
   "source": [
    "def dfs(x,y,visited,maps):\n",
    "    global count\n",
    "    visited[x][y] = True\n",
    "    count += 1\n",
    "    #print(x,y, \"dfs 내부, count 증가\")\n",
    "    for pair in zip(dx, dy):\n",
    "        if x+pair[0] >= len(maps) or x+pair[0] <0 or y+pair[1]>=len(maps) or y+pair[1]<0 :\n",
    "            continue\n",
    "     #   print(\"[pair]==>\" ,x+pair[0], y+pair[1] , \" maps[x+pair][y+pair] => \" , maps[x+pair[0]][y+pair[1]],visited[x+pair[0]][y+pair[1]])\n",
    "        if maps[x+pair[0]][y+pair[1]] == '1' and visited[x+pair[0]][y+pair[1]] ==False :\n",
    "            dfs(x+pair[0],y+pair[1],visited,maps)\n",
    "      #      print(\"내부에서 dfs 또 갔어\")\n",
    "\n",
    "            \n"
   ]
  },
  {
   "cell_type": "code",
   "execution_count": 109,
   "id": "5866c44c",
   "metadata": {},
   "outputs": [
    {
     "name": "stdout",
     "output_type": "stream",
     "text": [
      "3 [7, 8, 9]\n"
     ]
    }
   ],
   "source": [
    "dx = [0, 0, 1, -1]\n",
    "dy = [1, -1, 0, 0]\n",
    "whole =0\n",
    "count = 0\n",
    "res = []\n",
    "for i in range(N):\n",
    "    for j in range(N):\n",
    "#        print(\"여기가 최대 밖 잘 돌고있나?\", i,j,maps[i][j])\n",
    "        if maps[i][j] == '1' and visited[i][j]== False:\n",
    "            count=0\n",
    "            whole +=1 \n",
    "            dfs(i,j,visited,maps)\n",
    "            res.append(count)\n",
    " #           print(\"dfs 끝난 후 \")\n",
    "\n",
    "print(whole, res)\n",
    "            \n",
    "            "
   ]
  },
  {
   "cell_type": "code",
   "execution_count": 111,
   "id": "fa25b1b6",
   "metadata": {},
   "outputs": [
    {
     "name": "stdout",
     "output_type": "stream",
     "text": [
      "3\n",
      "7\n",
      "8\n",
      "9\n"
     ]
    }
   ],
   "source": [
    "print(whole)\n",
    "res.sort()\n",
    "for _ in res :\n",
    "    print(_)"
   ]
  },
  {
   "cell_type": "code",
   "execution_count": null,
   "id": "9f27a8c3",
   "metadata": {},
   "outputs": [],
   "source": []
  }
 ],
 "metadata": {
  "kernelspec": {
   "display_name": "Python 3 (ipykernel)",
   "language": "python",
   "name": "python3"
  },
  "language_info": {
   "codemirror_mode": {
    "name": "ipython",
    "version": 3
   },
   "file_extension": ".py",
   "mimetype": "text/x-python",
   "name": "python",
   "nbconvert_exporter": "python",
   "pygments_lexer": "ipython3",
   "version": "3.11.3"
  }
 },
 "nbformat": 4,
 "nbformat_minor": 5
}
